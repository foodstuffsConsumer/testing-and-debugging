{
 "cells": [
  {
   "attachments": {},
   "cell_type": "markdown",
   "metadata": {},
   "source": [
    "# Test Data Activity"
   ]
  },
  {
   "cell_type": "code",
   "execution_count": null,
   "metadata": {},
   "outputs": [],
   "source": [
    "def is_safe_temperature(temp):\n",
    "    return 0 <= temp <= 100\n",
    "\n",
    "print(is_safe_temperature(-1))\n",
    "print(is_safe_temperature(0))\n",
    "print(is_safe_temperature(100))\n",
    "print(is_safe_temperature(101))"
   ]
  },
  {
   "cell_type": "code",
   "execution_count": null,
   "metadata": {},
   "outputs": [],
   "source": [
    "def ticket_price(age):\n",
    "    if age < 5:\n",
    "        return \"Free\"\n",
    "    elif 5 <= age <= 17:\n",
    "        return \"$5\"\n",
    "    elif 18 <= age <= 64:\n",
    "        return \"$10\"\n",
    "    else:\n",
    "        return \"Senior Discount - $7\"\n",
    "\n",
    "print(ticket_price(1))\n",
    "print(ticket_price(12))\n",
    "print(ticket_price(30))\n",
    "print(ticket_price(70))"
   ]
  },
  {
   "cell_type": "code",
   "execution_count": null,
   "metadata": {},
   "outputs": [],
   "source": [
    "def divide_numbers(a, b):\n",
    "    try:\n",
    "        return a / b\n",
    "    except ZeroDivisionError:\n",
    "        return \"Error: Cannot divide by zero\"\n",
    "    except TypeError:\n",
    "        return \"Error: Invalid input, numbers required\"\n",
    "    \n",
    "print(divide_numbers(4, 2))\n",
    "print(divide_numbers(10, 0))\n",
    "print(divide_numbers('16', 8))"
   ]
  }
 ],
 "metadata": {
  "kernelspec": {
   "display_name": "Python 3",
   "language": "python",
   "name": "python3"
  },
  "language_info": {
   "codemirror_mode": {
    "name": "ipython",
    "version": 3
   },
   "file_extension": ".py",
   "mimetype": "text/x-python",
   "name": "python",
   "nbconvert_exporter": "python",
   "pygments_lexer": "ipython3",
   "version": "3.12.8"
  },
  "orig_nbformat": 4
 },
 "nbformat": 4,
 "nbformat_minor": 2
}
